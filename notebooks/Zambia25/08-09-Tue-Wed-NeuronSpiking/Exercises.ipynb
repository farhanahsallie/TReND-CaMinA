{
  "nbformat": 4,
  "nbformat_minor": 0,
  "metadata": {
    "colab": {
      "provenance": [],
      "authorship_tag": "ABX9TyOSrakfPadkoX0KFKWvL4Z+",
      "include_colab_link": true
    },
    "kernelspec": {
      "name": "python3",
      "display_name": "Python 3"
    },
    "language_info": {
      "name": "python"
    }
  },
  "cells": [
    {
      "cell_type": "markdown",
      "metadata": {
        "id": "view-in-github",
        "colab_type": "text"
      },
      "source": [
        "<a href=\"https://colab.research.google.com/github/trendinafrica/TReND-CaMinA/blob/main/notebooks/Zambia25/08-09-Tue-Wed-NeuronSpiking/Exercises.ipynb\" target=\"_parent\"><img src=\"https://colab.research.google.com/assets/colab-badge.svg\" alt=\"Open In Colab\"/></a>"
      ]
    },
    {
      "cell_type": "markdown",
      "source": [
        "<img align=\"left\" width=\"300\" src=\"https://raw.githubusercontent.com/trendinafrica/TReND-CaMinA/main/images/CaMinA_logo.png\">\n",
        "\n",
        "# **TReND-CaMinA 2025: Exercises**\n",
        "\n",
        "**Content creator:** Artemis Koumoundourou\n",
        "\n"
      ],
      "metadata": {
        "id": "N6P1vmsFlhuS"
      }
    },
    {
      "cell_type": "markdown",
      "source": [
        "# **1. Synaptic Integration — Single vs. Paired Inputs**\n",
        "\n",
        "**Background:**\n",
        "You’re studying how a postsynaptic neuron integrates inputs from two presynaptic partners — Neuron A and Neuron B. You've recorded the neuron's membrane potential (Vm) under three conditions:\n",
        "\n",
        "- When only Neuron A is active\n",
        "\n",
        "- When only Neuron B is active\n",
        "\n",
        "- When both A and B are active together\n",
        "\n",
        "<br>\n",
        "\n",
        "**Your tasks:**\n",
        "\n",
        "- Plot the membrane voltage traces for the three conditions.\n",
        "\n",
        "- Measure the peak response of the postsynaptic neuron in each condition.\n",
        "\n",
        "- Compare the response to both A and B with the sum of the individual responses.\n",
        "\n",
        "- Classify the integration as:\n",
        "\n",
        " - Linear (combined ≈ A + B)\n",
        "\n",
        " - Sublinear (combined < A + B)\n",
        "\n",
        " - Supralinear (combined > A + B)"
      ],
      "metadata": {
        "id": "GmGHv0D0uEhr"
      }
    },
    {
      "cell_type": "code",
      "source": [
        "# Step 1: Load and Preview the Data\n",
        "\n",
        "# Step 2: Extract Traces\n",
        "\n",
        "# Step 3: Detect Trials Based on the Stimulus\n",
        "\n",
        "# Step 4: Extract and Average the Trials\n",
        "\n",
        "# Step 5: Plot the averaged traces.\n",
        "\n",
        "# Step 6: Write a Spike Counter\n",
        "\n",
        "# Step 7: Apply Spike Counter and Compare\n"
      ],
      "metadata": {
        "id": "SJ-YNZH2xclA"
      },
      "execution_count": null,
      "outputs": []
    },
    {
      "cell_type": "code",
      "source": [
        "# @title Click to see solution\n",
        "\n",
        "import pandas as pd\n",
        "import numpy as np\n",
        "import matplotlib.pyplot as plt\n",
        "\n",
        "# Upload and load data\n",
        "from google.colab import files\n",
        "uploaded = files.upload()\n",
        "df = pd.read_csv('SynapticIntegration.csv')\n",
        "\n",
        "# Extract columns\n",
        "time = df[\"Time (ms)\"].values\n",
        "A = df[\"A_only\"].values\n",
        "B = df[\"B_only\"].values\n",
        "AB = df[\"A_and_B\"].values\n",
        "stim = df[\"Stimulus (%)\"].values\n",
        "\n",
        "# Detect trials based on stimulus onset/offset\n",
        "def get_trials(stimulus_trace):\n",
        "    onsets = np.where((stimulus_trace[:-1] == 0) & (stimulus_trace[1:] > 0))[0]\n",
        "    offsets = np.where((stimulus_trace[:-1] > 0) & (stimulus_trace[1:] == 0))[0]\n",
        "    trials = []\n",
        "    for onset in onsets:\n",
        "        offset = offsets[offsets > onset]\n",
        "        if len(offset) > 0:\n",
        "            trials.append((onset, offset[0]))\n",
        "    return trials\n",
        "\n",
        "trials = get_trials(stim)\n",
        "print(f\"Detected {len(trials)} trials.\")\n",
        "\n",
        "# Determine trial duration (in samples)\n",
        "min_len = min(end - start for start, end in trials)\n",
        "\n",
        "# Initialize arrays to collect aligned trial data\n",
        "A_trials = []\n",
        "B_trials = []\n",
        "AB_trials = []\n",
        "t_trials = []\n",
        "\n",
        "for start, end in trials:\n",
        "    if end - start >= min_len:\n",
        "        A_trials.append(A[start:start + min_len])\n",
        "        B_trials.append(B[start:start + min_len])\n",
        "        AB_trials.append(AB[start:start + min_len])\n",
        "        t_trials.append(time[start:start + min_len])\n",
        "\n",
        "# Convert to arrays and average\n",
        "A_trials = np.array(A_trials)\n",
        "B_trials = np.array(B_trials)\n",
        "AB_trials = np.array(AB_trials)\n",
        "t_trials = np.array(t_trials)\n",
        "\n",
        "A_avg = A_trials.mean(axis=0)\n",
        "B_avg = B_trials.mean(axis=0)\n",
        "AB_avg = AB_trials.mean(axis=0)\n",
        "t_avg = t_trials[0]  # all time segments are same length\n",
        "\n",
        "# Plot averaged traces\n",
        "plt.figure(figsize=(10, 5))\n",
        "plt.plot(t_avg, A_avg, label=\"A only (avg)\", color='navy')\n",
        "plt.plot(t_avg, B_avg, label=\"B only (avg)\", color='darkgreen')\n",
        "plt.plot(t_avg, AB_avg, label=\"A + B (avg)\", color='crimson')\n",
        "plt.axhline(0, color='black', linestyle='--', alpha=0.5)\n",
        "plt.xlabel(\"Time (ms)\")\n",
        "plt.ylabel(\"Membrane Voltage (mV)\")\n",
        "plt.title(\"Synaptic Integration: Averaged Voltage Traces\")\n",
        "plt.legend()\n",
        "plt.grid(True)\n",
        "plt.show()\n",
        "\n",
        "# Spike counter\n",
        "def count_spikes(trace, threshold=-20):\n",
        "    is_spiking = False\n",
        "    count = 0\n",
        "    for v in trace:\n",
        "        if not is_spiking and v >= threshold:\n",
        "            count += 1\n",
        "            is_spiking = True\n",
        "        elif v < threshold:\n",
        "            is_spiking = False\n",
        "    return count\n",
        "\n",
        "# Apply spike counter and compare\n",
        "spikes_A = count_spikes(A_avg)\n",
        "spikes_B = count_spikes(B_avg)\n",
        "spikes_AB = count_spikes(AB_avg)\n",
        "expected_sum = spikes_A + spikes_B\n",
        "\n",
        "print(\"\\nSpike counts in averaged traces:\")\n",
        "print(f\"  A only: {spikes_A}\")\n",
        "print(f\"  B only: {spikes_B}\")\n",
        "print(f\"  A + B: {spikes_AB}\")\n",
        "\n",
        "if spikes_AB == expected_sum:\n",
        "  print(\"  → Linear summation\")\n",
        "elif spikes_AB < expected_sum:\n",
        "  print(\"  → Sublinear summation\")\n",
        "else:\n",
        "  print(\"  → Supralinear summation\")"
      ],
      "metadata": {
        "cellView": "form",
        "id": "4OgYshEk_-GZ"
      },
      "execution_count": null,
      "outputs": []
    },
    {
      "cell_type": "markdown",
      "source": [
        "# **2. Inferring Synaptic Connectivity from Voltage Recordings**\n",
        "\n",
        "**Background:**\n",
        "You have simultaneous membrane voltage (Vm) recordings from two neurons (Neuron 1 and Neuron 2) recorded during repeated trials where a stimulus turns ON for 500 ms, then OFF for 500 ms. You want to analyze whether these neurons show functional connectivity — i.e., does one neuron’s firing tend to influence the other?\n",
        "\n",
        "<br>\n",
        "\n",
        "**Your tasks:**\n",
        "\n",
        "- Segment the continuous recording into trials based on the stimulus trace.\n",
        "\n",
        "- Detect spikes in each neuron’s Vm trace during stimulus ON periods.\n",
        "\n",
        "- Build spike trains from detected spike times.\n",
        "\n",
        "- Compute and plot the cross-correlation between the two neurons’ spike trains during stimulus ON.\n",
        "\n",
        "- Interpret whether the cross-correlation suggests a temporal lead-lag relationship (potential synaptic influence)."
      ],
      "metadata": {
        "id": "I2Pc6semc_JU"
      }
    },
    {
      "cell_type": "code",
      "source": [
        "# @title Click to see solution\n",
        "\n",
        "import numpy as np\n",
        "import pandas as pd\n",
        "import matplotlib.pyplot as plt\n",
        "\n",
        "# Load data\n",
        "df = pd.read_csv(\"SynapticConnectivity.csv\")\n",
        "\n",
        "time = df[\"Time (ms)\"].values\n",
        "vm1 = df[\"Neuron A\"].values\n",
        "vm2 = df[\"Neuron B\"].values\n",
        "\n",
        "dt = 0.1  # sampling interval in ms\n",
        "threshold = -20  # spike detection threshold\n",
        "\n",
        "\n",
        "def detect_spikes(vm, threshold):\n",
        "    # Detect upward threshold crossings\n",
        "    spike_indices = np.where((vm[:-1] < threshold) & (vm[1:] >= threshold))[0] + 1\n",
        "    return spike_indices * dt  # Convert indices to ms\n",
        "\n",
        "spike_times1 = detect_spikes(vm1, threshold)\n",
        "spike_times2 = detect_spikes(vm2, threshold)\n",
        "\n",
        "print(\"Neuron 1 spike times (ms):\", spike_times1)\n",
        "print(\"Neuron 2 spike times (ms):\", spike_times2)\n",
        "\n",
        "# Compute all spike time differences within ±window_ms\n",
        "window_ms = 50\n",
        "time_diffs = []\n",
        "\n",
        "for t1 in spike_times1:\n",
        "    diffs = spike_times2 - t1\n",
        "    diffs_in_window = diffs[(diffs >= -window_ms) & (diffs <= window_ms)]\n",
        "    time_diffs.extend(diffs_in_window)\n",
        "\n",
        "time_diffs = np.array(time_diffs)\n",
        "\n",
        "# Plot cross-correlogram\n",
        "bin_size = 1  # ms\n",
        "bins = np.arange(-window_ms, window_ms + bin_size, bin_size)\n",
        "\n",
        "hist, edges = np.histogram(time_diffs, bins=bins)\n",
        "\n",
        "peak_idx = np.argmax(hist)\n",
        "peak_lag = (edges[peak_idx] + edges[peak_idx + 1]) / 2\n",
        "\n",
        "print(f\"Max correlation at lag = {peak_lag} ms\")\n",
        "\n",
        "if peak_lag > 0:\n",
        "    print(\"→ Neuron 1 tends to fire before Neuron 2 (Neuron 1 leads).\")\n",
        "elif peak_lag < 0:\n",
        "    print(\"→ Neuron 2 tends to fire before Neuron 1 (Neuron 2 leads).\")\n",
        "else:\n",
        "    print(\"→ Neurons tend to fire synchronously.\")\n",
        "\n",
        "plt.bar(edges[:-1], hist, width=bin_size, align='edge')\n",
        "plt.axvline(peak_lag, color='r', linestyle='--', label=f'Peak lag = {peak_lag} ms')\n",
        "plt.xlabel('Lag (ms)')\n",
        "plt.ylabel('Count')\n",
        "plt.title('Cross-correlogram (spike time differences)')\n",
        "plt.legend()\n",
        "plt.show()\n"
      ],
      "metadata": {
        "cellView": "form",
        "id": "W6P7Qm7vq0WF"
      },
      "execution_count": null,
      "outputs": []
    },
    {
      "cell_type": "markdown",
      "source": [
        "# **3. Comparing Neuronal Tuning Using Vector Similarity**\n",
        "\n",
        "**Background:** You are given membrane voltage recordings from three neurons, all recorded while the same set of increasing stimulus intensities was presented multiple times.\n",
        "\n",
        "<br>\n",
        "\n",
        "**Your Tasks:**\n",
        "- Detect spikes in the voltage traces for each neuron.\n",
        "\n",
        "-Count how many spikes each neuron fires at each stimulus level.\n",
        "\n",
        "- Summarize each neuron's responses as a vector of spike counts — one count per stimulus strength.\n",
        "\n",
        "- Compare the response patterns between neurons by computing the angle between their response vectors.\n",
        "\n",
        "The **smaller the angle**, the more similar the neurons’ tuning is across stimulus strengths.\n",
        "\n",
        "<br>\n",
        "\n",
        "**Questions:**\n",
        "\n",
        "Which pair of neurons responds most similarly across stimuli?\n",
        "\n",
        "What does the angle between their response vectors tell you about their coding?"
      ],
      "metadata": {
        "id": "bHIKsmS9lZu7"
      }
    },
    {
      "cell_type": "code",
      "source": [
        "# Step 1: Import libraries\n",
        "import pandas as pd\n",
        "import numpy as np\n",
        "import matplotlib.pyplot as plt\n",
        "\n",
        "# Step 2: Load the CSV file\n",
        "# Check the structure of the CSV\n",
        "\n"
      ],
      "metadata": {
        "id": "y_NnboRlwel3"
      },
      "execution_count": null,
      "outputs": []
    },
    {
      "cell_type": "code",
      "source": [
        "# Step 3: Define parameters\n",
        "\n",
        "\n",
        "# Step 4: Find stimulus onset times"
      ],
      "metadata": {
        "id": "C8i7I4onwhwu"
      },
      "execution_count": null,
      "outputs": []
    },
    {
      "cell_type": "code",
      "source": [
        "# Step 5: Define function to detect spikes\n",
        "\n",
        "\n",
        "# Step 6: Loop through each neuron and count spikes for each stimulus"
      ],
      "metadata": {
        "id": "ruGZsgcTxHER"
      },
      "execution_count": null,
      "outputs": []
    },
    {
      "cell_type": "code",
      "source": [
        "# Step 7: Convert spike counts to vectors\n"
      ],
      "metadata": {
        "id": "YBIT_K51xNsf"
      },
      "execution_count": null,
      "outputs": []
    },
    {
      "cell_type": "code",
      "source": [
        "# Step 8: Define function to compute angle between two vectors\n",
        "\n",
        "\n",
        "# Step 9: Compare neuron pairs"
      ],
      "metadata": {
        "id": "-7jvQvzKxUuZ"
      },
      "execution_count": null,
      "outputs": []
    },
    {
      "cell_type": "code",
      "source": [
        "# @title Click to see solution\n",
        "# Step 1: Import libraries\n",
        "import pandas as pd\n",
        "import numpy as np\n",
        "import matplotlib.pyplot as plt\n",
        "\n",
        "# Step 2: Load the CSV file\n",
        "# Check for the structure of the CSV\n",
        "from google.colab import files\n",
        "uploaded = files.upload()\n",
        "data = pd.read_csv('NeuronSimilarity.csv')\n",
        "data.head()\n",
        "\n",
        "# Step 3: Define parameters\n",
        "sampling_interval = 0.1  # ms\n",
        "stim_values = [0, 10, 20, 30, 40]\n",
        "stim_duration_ms = 250\n",
        "pre_stim_ms = 50\n",
        "post_stim_ms = 50\n",
        "\n",
        "pre_samples = int(pre_stim_ms / sampling_interval)\n",
        "stim_samples = int(stim_duration_ms / sampling_interval)\n",
        "post_samples = int(post_stim_ms / sampling_interval)\n",
        "\n",
        "# Step 4: Find stimulus onset times\n",
        "stim_onsets = data.index[(data['Stimulus'].shift(1) == 0) & (data['Stimulus'] > 0)].tolist()\n",
        "\n",
        "# Step 5: Define function to detect spikes\n",
        "def detect_spikes(trace, threshold=-20):\n",
        "    return np.where((trace[1:] > threshold) & (trace[:-1] <= threshold))[0]\n",
        "\n",
        "# Step 6: Loop through each neuron and count spikes for each stimulus\n",
        "neuron_columns = ['Neuron1', 'Neuron2', 'Neuron3']\n",
        "spike_counts = {neuron: [] for neuron in neuron_columns}\n",
        "\n",
        "for neuron in neuron_columns:\n",
        "    for onset in stim_onsets:\n",
        "        start = onset\n",
        "        end = onset + stim_samples\n",
        "        if end < len(data):\n",
        "            trace = data[neuron].iloc[start:end].values\n",
        "            spikes = detect_spikes(trace)\n",
        "            spike_counts[neuron].append(len(spikes))\n",
        "\n",
        "# Step 7: Convert spike counts to vectors\n",
        "vectors = {k: np.array(v) for k, v in spike_counts.items()}\n",
        "\n",
        "# Step 8: Define function to compute angle between two vectors\n",
        "def angle_between(v1, v2):\n",
        "    v1 = np.array(v1)\n",
        "    v2 = np.array(v2)\n",
        "    cos_theta = np.dot(v1, v2) / (np.linalg.norm(v1) * np.linalg.norm(v2))\n",
        "    return np.degrees(np.arccos(np.clip(cos_theta, -1.0, 1.0)))\n",
        "\n",
        "# Step 9: Compare neuron pairs\n",
        "for a in neuron_columns:\n",
        "    for b in neuron_columns:\n",
        "        if a < b:\n",
        "            angle = angle_between(vectors[a], vectors[b])\n",
        "            print(f\"Angle between {a} and {b}: {angle:.2f}°\")\n",
        "\n",
        "# Optional: Plot tuning curves\n",
        "plt.figure(figsize=(8, 5))\n",
        "for neuron in neuron_columns:\n",
        "    plt.plot(stim_values, spike_counts[neuron], marker='o', label=neuron)\n",
        "plt.xlabel(\"Stimulus Strength\")\n",
        "plt.ylabel(\"Spike Count\")\n",
        "plt.title(\"Tuning Curves\")\n",
        "plt.legend()\n",
        "plt.grid(True)\n",
        "plt.tight_layout()\n",
        "plt.show()\n"
      ],
      "metadata": {
        "id": "hrHkPe2tpgaR",
        "cellView": "form"
      },
      "execution_count": null,
      "outputs": []
    },
    {
      "cell_type": "markdown",
      "source": [
        "---\n",
        "#**About the author**\n",
        "##**Artemis Koumoundourou**\n",
        "\n",
        "- Post-doctoral researcher at the [VIB-KU Leuven Center for Brain & Disease Research](https://cbd.sites.vib.be/en#/) in Leuven, Belgium. I study how the molecular composition of synapses drives circuit connectivity and specification at the [Lab of Synapse Biology](https://dewitlab.sites.vib.be/en).\n",
        "- Executive Director at [TReND in Africa](https://trendinafrica.org/).\n",
        "- Links: [Bluesky](https://bsky.app/profile/akoumoundourou.bsky.social), [LinkedIn](https://www.linkedin.com/in/artemis-koumoundourou-6b77a284/), [ORCID](https://orcid.org/0000-0002-8917-5717)\n",
        "- Feel free to contact me: artemis@trendinafrica.org"
      ],
      "metadata": {
        "id": "clTOmKACvgCI"
      }
    }
  ]
}